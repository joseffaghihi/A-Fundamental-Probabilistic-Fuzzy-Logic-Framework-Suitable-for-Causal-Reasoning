{
  "nbformat": 4,
  "nbformat_minor": 0,
  "metadata": {
    "colab": {
      "name": "FuzzyCausal.ipynb",
      "provenance": []
    },
    "kernelspec": {
      "name": "python3",
      "display_name": "Python 3"
    },
    "language_info": {
      "name": "python"
    }
  },
  "cells": [
    {
      "cell_type": "markdown",
      "source": [
        "All theoretical explanations and the code provided here is in connection to the following papr:\n",
        "\n",
        "[To be added the arxiv link]"
      ],
      "metadata": {
        "id": "dDKzrNvT_p3Z"
      }
    },
    {
      "cell_type": "markdown",
      "source": [
        "# **A Short Summary of our PFL Framework**\n",
        "\n",
        "Let $\\Omega\\subseteq\\mathbb{R}$ and $X:\\Omega\\to\\mathbb{R}$ be the identity random variable. Also, let $A$ be a fuzzy attribute of $\\Omega$ (such as $low$, $medium$ and  $high$). Assume that $x_A\\in\\Omega$ certainly could not be selected as $A$. Hence, we interpret \"selecting $x_A$ as $A$\" as selecting nothing.  \n",
        "We also define $\\mathbb{P}(\\Omega\\text{ is } A)$ (or $\\mathbb{P}(X\\text{ is } A)$ ) to be the chance that a randomly chosen element of $\\Omega$ has the attribute $A$. Indeed, $\\mathbb{P}(\\Omega \\text{ is } A)$ is obtained in two steps:\n",
        "\n",
        "(1) Randomly selecting an element $x$ of $\\Omega$.\n",
        "\n",
        "(2) Doing a random experiment for selected $x$ in Step (1) with the following outcomes:\n",
        "\\begin{equation}\n",
        "\\{\\text{$x$ is selected as $A$}, \\text{Nothing is selected as $A$}\\}.\n",
        "\\end{equation}\n",
        "\n",
        "\n",
        "Then, we associate the random variable $\\xi_{X,A}$ to the above experiment. Indeed, $\\xi_{X,A}$ takes $x\\in\\Omega\\backslash\\{x_A\\}$ with the probability of $\\mathbb{P}(X=x)\\mathbb{P}(x\\text{ is } A)$. \n",
        "\n",
        "# **Application of our PFL Framework in Causal Inference**\n",
        "\n",
        "Assume that we intend to measure the causal effect of a discrete (but not necessarily binary) intervention $T$  on a Bernoulli outcome $Y$. For instance, $T$ could be a type of medical treatment and $Y$ be the outcome of $T$. Indeed, $Y=1$ when the treatment is successful and otherwise $Y=0$. We also denote the potential outcome corresponding to $T=t$ by $Y(t)$. A significant way to measure the causal effect of $T$ on $Y$ is to see the difference between the outcomes when $T$  is $high$ and when $T$ is $low$. We might be also interested in $medium$ treatments.  Thus, we assume that $low$, $medium$ and $high$ are fuzzy attributes of $T$, and then we use our PFL theory. Given a statistical population, we define:\n",
        "\\begin{equation}\n",
        "  Y(A):=\\frac{1}{\\mathbb{P}(T\\text{ is }A)}\\sum_{t\\neq t_A}Y(t)\\mathbb{P}(\\xi_{T,A}=t),\n",
        "\\end{equation}\n",
        "where $A\\in\\{low, medium, high\\}$. \n",
        "\n",
        "Now, we define the *fuzzy average treatment effects (FATE)* as follows:\n",
        "\\begin{align*}\n",
        "\t\\mathrm{FATE}_{l}^{h}&:=\\mathbb{E}(Y(high))-\\mathbb{E}(Y(low)),\\\\\n",
        "\t\\mathrm{FATE}_{l}^{m}&:=\\mathbb{E}(Y(medium))-\\mathbb{E}(Y(low)),\\\\\n",
        "\t\\mathrm{FATE}_{m}^{h}&:=\\mathbb{E}(Y(high))-\\mathbb{E}(Y(medium)).\n",
        "\\end{align*}\n",
        "Obviously, we have that\n",
        "\\begin{equation}\n",
        "\\mathrm{FATE}_{l}^{h}=\\mathrm{FATE}_{l}^{m}+\\mathrm{FATE}_{m}^{h}.\n",
        "\\end{equation}\n",
        "We note that to measure the causal effect of the treatment on a unit, we have to do the following procedure: Given the times $t_1$ and $t_2$ with $t_1<t_2$, for any treatment $t$, the unit receives $t$ at the time $t_1$, and $Y(t)$ (the potential outcome associated to $t$) is measured at the time $t_2$. However, it is not possible to measure all potential outcomes for a unit simultaneously.  Hence, for a period of time, only one of the above potential outcomes could be measured for a unit, and the other ones remain missing. This issue is called the *fundamental problem of Causal Inference*.\n",
        "\n",
        "To deal with the fundamental problem of Causal Inference, there are some assumptions in classic causal inference such as  the ignorability condition. Similar assumptions, could create a fuzzy version of  the ignorability condition.  Our fuzzy ignorability condition is the following assumption:\n",
        "\n",
        "$\\bullet$ $Y(t)$ and $\\xi_{A,T}$ are independent for any $t\\in T$ and $A\\in\\{low, high\\}$. \n",
        "\n",
        "Thus, to compute $\\mathrm{FATE}_l^h$,  we have that\n",
        "\\begin{align*}\n",
        "\t\\mathbb{E}(Y(high))&=\\frac{1}{\\mathbb{P}(T\\text{ is }high)}\\sum_{t\\neq t_{high}}\\mathbb{E}(Y(t))\\mathbb{P}(\\xi_{T,high}=t)\\\\\n",
        "\t&=\\frac{1}{\\mathbb{P}(T\\text{ is }high)}\\sum_{t\\neq t_{high}}\\mathbb{E}(Y(t)|\\xi_{T,high}=t)\\mathbb{P}(\\xi_{T,high}=t)\\\\\n",
        "\t&=\\frac{1}{\\mathbb{P}(T\\text{ is }high)}\\sum_{t\\neq t_{high}}\\mathbb{P}(Y(t)=1|\\xi_{T,high}=t)\\mathbb{P}(\\xi_{T,high}=t)\\\\\n",
        "\t&=\\frac{1}{\\mathbb{P}(T\\text{ is }high)}\\sum_{t\\neq t_{high}}\\mathbb{P}(Y=1|\\xi_{T,high}=t)\\mathbb{P}(\\xi_{T,high}=t)\\\\\n",
        "\t&=\\frac{1}{\\mathbb{P}(\\xi_{T,high}\\neq t_{high})}\\sum_{t\\neq t_{high}}\\mathbb{P}(\\xi_{T,high}=t|Y=1)\\mathbb{P}(Y=1)\\\\\n",
        "\t&=\\frac{\\mathbb{P}(\\xi_{T,high}\\neq t_{high}|Y=1)\\mathbb{P}(Y=1)}{\\mathbb{P}(\\xi_{T,high}\\neq t_{high})}\\\\\n",
        "\t&=\\mathbb{P}(Y=1|\\xi_{T,high}\\neq t_{high})\\\\\n",
        "\t&=\\mathbb{E}(Y|\\xi_{T,high}\\neq t_{high}).\n",
        "\\end{align*}\n",
        "which is a statistical formula. Similarly, we can obtain $\\mathbb{E}(Y(low))$ as follows:\n",
        "\\begin{equation}\n",
        "\\mathbb{E}(Y(low))=\\mathbb{E}(Y|\\xi_{T,low}\\neq t_{low}),\n",
        "\\end{equation}\n",
        "which implies that\n",
        "\\begin{equation}\n",
        "  \\mathrm{FATE}_l^h=\\mathbb{E}(Y|\\xi_{T,high}\\neq t_{high})-\\mathbb{E}(Y|\\xi_{T,low}\\neq t_{low}).\n",
        "\\end{equation}\n",
        "\n",
        "In practice,  we suggest to fuzzify the treatment into three fuzzy subsets $low$, $medium$ and $high$ in such a way that \n",
        "\\begin{equation}\n",
        "\\mathbb{P}(t\\text{ is }low)+\\mathbb{P}(t\\text{ is }medium)+\\mathbb{P}(t\\text{ is }high)=1\n",
        "\\end{equation}\n",
        "for any $t\\in \\mathrm{Supp}(T)\\backslash\\{t_{high}\\}$ (for instance, see Relative Fuzzy Model described in the paper). This follows that\n",
        "\\begin{equation}\n",
        "\\mathbb{P}(T\\text{ is }low)+\\mathbb{P}(T\\text{ is }medium)+\\mathbb{P}(T\\text{ is }high)=1.\n",
        "\\end{equation}\n",
        "Then, for any treatment $t\\in \\mathrm{Supp}(T)\\backslash\\{t_{high}\\}$, we randomly assign $t$ to a proportion $\\mathbb{P}(\\xi_{T,high}=t)$ of the entire sample. Thus, a proportion  $\\mathbb{P}(T\\text{ is }low)+\\mathbb{P}(T\\text{ is }medium)$ of the entire sample is untreated. Next, we randomly assign  $\\xi_{T,medium}$ to a proportion  $\\mathbb{P}(T\\text{ is }medium)$ of the entire sample, but only to untreated units. Thus, a proportion $\\mathbb{P}(T\\text{ is }low)$ of the entire sample remains untreated. This proportion of the entire sample could be treated using $\\xi_{T,low}$.\n",
        "\n",
        "\n",
        "Now, let's see an example. assume that we are given a uniformly distributed treatment $T$ whose set of values is $\\{0,1,\\ldots,9\\}$. We randomly generate the binary potential outcomes of a sample of 10000 people in such a way that the probability of happening $Y(t)=1$ is more probable when $t$ increases. The goal is to check that the fuzzy version of the ignorability condition solves the fundamental problem of Causal Inference.\n",
        "\n",
        "The codes appearing below describes the aforementioned example. For precise information see the paper. "
      ],
      "metadata": {
        "id": "uWT6avDbwBTi"
      }
    },
    {
      "cell_type": "code",
      "source": [
        "import numpy as np\n",
        "import pandas as pd"
      ],
      "metadata": {
        "id": "VhQgLvW3v-dP"
      },
      "execution_count": null,
      "outputs": []
    },
    {
      "cell_type": "markdown",
      "source": [
        "# Part 1: Direct Computing of Fuzzy Average Treatment Effect"
      ],
      "metadata": {
        "id": "VGuJMT2kb-HM"
      }
    },
    {
      "cell_type": "markdown",
      "source": [
        "**`Generating Random Data`**"
      ],
      "metadata": {
        "id": "UI6_0NOda4mK"
      }
    },
    {
      "cell_type": "code",
      "source": [
        "card_tr=10 #The cardinality of the treatment set. Indeed, Supp(T)={0,1,...,card_tr-1}\n",
        "card_smpl=10000  #The cardinality of the sample"
      ],
      "metadata": {
        "id": "W1iubZgJ_Ilg"
      },
      "execution_count": null,
      "outputs": []
    },
    {
      "cell_type": "code",
      "source": [
        "# Generating the \"card_smpl*card_tr\" array \"pop\" in such a way that each row corresponds to a unit.\n",
        "# The jth entry in the ith row is the value of the jth binary potential outcome for the ith unit.\n",
        "# The probability of happening $Y(j)=1$ is more probable when $j$ increases.\n",
        "\n",
        "np.random.seed(1)\n",
        "pop=np.zeros((card_smpl, card_tr))\n",
        "for i in range(0,card_smpl):\n",
        "  for j in range(0, card_tr):\n",
        "    pop[i,j]=np.random.choice(2,1,p=[1-((j+1)**2/((card_tr+1)**2)),(j+1)**2/((card_tr+1)**2)])\n"
      ],
      "metadata": {
        "id": "M6fnVTsH_e9Z"
      },
      "execution_count": null,
      "outputs": []
    },
    {
      "cell_type": "code",
      "source": [
        "# Showing the tail and the head of Data\n",
        "\n",
        "pot=[]\n",
        "for i in range(0,card_tr):\n",
        "  pot.append(\"Y(\"+str(i)+\")\")\n",
        "\n",
        "table=pd.DataFrame(pop,columns=pot)\n",
        "table"
      ],
      "metadata": {
        "colab": {
          "base_uri": "https://localhost:8080/",
          "height": 424
        },
        "id": "J3tTgJU6jW2Q",
        "outputId": "c7d9be86-2441-4ace-86eb-f0c73d8ab39b"
      },
      "execution_count": null,
      "outputs": [
        {
          "output_type": "execute_result",
          "data": {
            "text/plain": [
              "      Y(0)  Y(1)  Y(2)  Y(3)  Y(4)  Y(5)  Y(6)  Y(7)  Y(8)  Y(9)\n",
              "0      0.0   0.0   0.0   0.0   0.0   0.0   0.0   0.0   1.0   1.0\n",
              "1      0.0   0.0   0.0   1.0   0.0   0.0   0.0   1.0   0.0   1.0\n",
              "2      0.0   1.0   0.0   0.0   1.0   1.0   0.0   0.0   0.0   1.0\n",
              "3      0.0   0.0   1.0   0.0   0.0   0.0   1.0   1.0   0.0   1.0\n",
              "4      0.0   0.0   0.0   0.0   0.0   0.0   1.0   0.0   0.0   0.0\n",
              "...    ...   ...   ...   ...   ...   ...   ...   ...   ...   ...\n",
              "9995   0.0   0.0   0.0   0.0   0.0   0.0   1.0   0.0   1.0   0.0\n",
              "9996   0.0   0.0   0.0   0.0   0.0   0.0   0.0   1.0   0.0   1.0\n",
              "9997   0.0   0.0   0.0   0.0   0.0   0.0   0.0   0.0   0.0   1.0\n",
              "9998   0.0   0.0   0.0   0.0   0.0   0.0   0.0   1.0   1.0   1.0\n",
              "9999   0.0   0.0   1.0   0.0   0.0   1.0   1.0   1.0   1.0   1.0\n",
              "\n",
              "[10000 rows x 10 columns]"
            ],
            "text/html": [
              "\n",
              "  <div id=\"df-22a5563c-b28f-4186-9c5b-db59890224b8\">\n",
              "    <div class=\"colab-df-container\">\n",
              "      <div>\n",
              "<style scoped>\n",
              "    .dataframe tbody tr th:only-of-type {\n",
              "        vertical-align: middle;\n",
              "    }\n",
              "\n",
              "    .dataframe tbody tr th {\n",
              "        vertical-align: top;\n",
              "    }\n",
              "\n",
              "    .dataframe thead th {\n",
              "        text-align: right;\n",
              "    }\n",
              "</style>\n",
              "<table border=\"1\" class=\"dataframe\">\n",
              "  <thead>\n",
              "    <tr style=\"text-align: right;\">\n",
              "      <th></th>\n",
              "      <th>Y(0)</th>\n",
              "      <th>Y(1)</th>\n",
              "      <th>Y(2)</th>\n",
              "      <th>Y(3)</th>\n",
              "      <th>Y(4)</th>\n",
              "      <th>Y(5)</th>\n",
              "      <th>Y(6)</th>\n",
              "      <th>Y(7)</th>\n",
              "      <th>Y(8)</th>\n",
              "      <th>Y(9)</th>\n",
              "    </tr>\n",
              "  </thead>\n",
              "  <tbody>\n",
              "    <tr>\n",
              "      <th>0</th>\n",
              "      <td>0.0</td>\n",
              "      <td>0.0</td>\n",
              "      <td>0.0</td>\n",
              "      <td>0.0</td>\n",
              "      <td>0.0</td>\n",
              "      <td>0.0</td>\n",
              "      <td>0.0</td>\n",
              "      <td>0.0</td>\n",
              "      <td>1.0</td>\n",
              "      <td>1.0</td>\n",
              "    </tr>\n",
              "    <tr>\n",
              "      <th>1</th>\n",
              "      <td>0.0</td>\n",
              "      <td>0.0</td>\n",
              "      <td>0.0</td>\n",
              "      <td>1.0</td>\n",
              "      <td>0.0</td>\n",
              "      <td>0.0</td>\n",
              "      <td>0.0</td>\n",
              "      <td>1.0</td>\n",
              "      <td>0.0</td>\n",
              "      <td>1.0</td>\n",
              "    </tr>\n",
              "    <tr>\n",
              "      <th>2</th>\n",
              "      <td>0.0</td>\n",
              "      <td>1.0</td>\n",
              "      <td>0.0</td>\n",
              "      <td>0.0</td>\n",
              "      <td>1.0</td>\n",
              "      <td>1.0</td>\n",
              "      <td>0.0</td>\n",
              "      <td>0.0</td>\n",
              "      <td>0.0</td>\n",
              "      <td>1.0</td>\n",
              "    </tr>\n",
              "    <tr>\n",
              "      <th>3</th>\n",
              "      <td>0.0</td>\n",
              "      <td>0.0</td>\n",
              "      <td>1.0</td>\n",
              "      <td>0.0</td>\n",
              "      <td>0.0</td>\n",
              "      <td>0.0</td>\n",
              "      <td>1.0</td>\n",
              "      <td>1.0</td>\n",
              "      <td>0.0</td>\n",
              "      <td>1.0</td>\n",
              "    </tr>\n",
              "    <tr>\n",
              "      <th>4</th>\n",
              "      <td>0.0</td>\n",
              "      <td>0.0</td>\n",
              "      <td>0.0</td>\n",
              "      <td>0.0</td>\n",
              "      <td>0.0</td>\n",
              "      <td>0.0</td>\n",
              "      <td>1.0</td>\n",
              "      <td>0.0</td>\n",
              "      <td>0.0</td>\n",
              "      <td>0.0</td>\n",
              "    </tr>\n",
              "    <tr>\n",
              "      <th>...</th>\n",
              "      <td>...</td>\n",
              "      <td>...</td>\n",
              "      <td>...</td>\n",
              "      <td>...</td>\n",
              "      <td>...</td>\n",
              "      <td>...</td>\n",
              "      <td>...</td>\n",
              "      <td>...</td>\n",
              "      <td>...</td>\n",
              "      <td>...</td>\n",
              "    </tr>\n",
              "    <tr>\n",
              "      <th>9995</th>\n",
              "      <td>0.0</td>\n",
              "      <td>0.0</td>\n",
              "      <td>0.0</td>\n",
              "      <td>0.0</td>\n",
              "      <td>0.0</td>\n",
              "      <td>0.0</td>\n",
              "      <td>1.0</td>\n",
              "      <td>0.0</td>\n",
              "      <td>1.0</td>\n",
              "      <td>0.0</td>\n",
              "    </tr>\n",
              "    <tr>\n",
              "      <th>9996</th>\n",
              "      <td>0.0</td>\n",
              "      <td>0.0</td>\n",
              "      <td>0.0</td>\n",
              "      <td>0.0</td>\n",
              "      <td>0.0</td>\n",
              "      <td>0.0</td>\n",
              "      <td>0.0</td>\n",
              "      <td>1.0</td>\n",
              "      <td>0.0</td>\n",
              "      <td>1.0</td>\n",
              "    </tr>\n",
              "    <tr>\n",
              "      <th>9997</th>\n",
              "      <td>0.0</td>\n",
              "      <td>0.0</td>\n",
              "      <td>0.0</td>\n",
              "      <td>0.0</td>\n",
              "      <td>0.0</td>\n",
              "      <td>0.0</td>\n",
              "      <td>0.0</td>\n",
              "      <td>0.0</td>\n",
              "      <td>0.0</td>\n",
              "      <td>1.0</td>\n",
              "    </tr>\n",
              "    <tr>\n",
              "      <th>9998</th>\n",
              "      <td>0.0</td>\n",
              "      <td>0.0</td>\n",
              "      <td>0.0</td>\n",
              "      <td>0.0</td>\n",
              "      <td>0.0</td>\n",
              "      <td>0.0</td>\n",
              "      <td>0.0</td>\n",
              "      <td>1.0</td>\n",
              "      <td>1.0</td>\n",
              "      <td>1.0</td>\n",
              "    </tr>\n",
              "    <tr>\n",
              "      <th>9999</th>\n",
              "      <td>0.0</td>\n",
              "      <td>0.0</td>\n",
              "      <td>1.0</td>\n",
              "      <td>0.0</td>\n",
              "      <td>0.0</td>\n",
              "      <td>1.0</td>\n",
              "      <td>1.0</td>\n",
              "      <td>1.0</td>\n",
              "      <td>1.0</td>\n",
              "      <td>1.0</td>\n",
              "    </tr>\n",
              "  </tbody>\n",
              "</table>\n",
              "<p>10000 rows × 10 columns</p>\n",
              "</div>\n",
              "      <button class=\"colab-df-convert\" onclick=\"convertToInteractive('df-22a5563c-b28f-4186-9c5b-db59890224b8')\"\n",
              "              title=\"Convert this dataframe to an interactive table.\"\n",
              "              style=\"display:none;\">\n",
              "        \n",
              "  <svg xmlns=\"http://www.w3.org/2000/svg\" height=\"24px\"viewBox=\"0 0 24 24\"\n",
              "       width=\"24px\">\n",
              "    <path d=\"M0 0h24v24H0V0z\" fill=\"none\"/>\n",
              "    <path d=\"M18.56 5.44l.94 2.06.94-2.06 2.06-.94-2.06-.94-.94-2.06-.94 2.06-2.06.94zm-11 1L8.5 8.5l.94-2.06 2.06-.94-2.06-.94L8.5 2.5l-.94 2.06-2.06.94zm10 10l.94 2.06.94-2.06 2.06-.94-2.06-.94-.94-2.06-.94 2.06-2.06.94z\"/><path d=\"M17.41 7.96l-1.37-1.37c-.4-.4-.92-.59-1.43-.59-.52 0-1.04.2-1.43.59L10.3 9.45l-7.72 7.72c-.78.78-.78 2.05 0 2.83L4 21.41c.39.39.9.59 1.41.59.51 0 1.02-.2 1.41-.59l7.78-7.78 2.81-2.81c.8-.78.8-2.07 0-2.86zM5.41 20L4 18.59l7.72-7.72 1.47 1.35L5.41 20z\"/>\n",
              "  </svg>\n",
              "      </button>\n",
              "      \n",
              "  <style>\n",
              "    .colab-df-container {\n",
              "      display:flex;\n",
              "      flex-wrap:wrap;\n",
              "      gap: 12px;\n",
              "    }\n",
              "\n",
              "    .colab-df-convert {\n",
              "      background-color: #E8F0FE;\n",
              "      border: none;\n",
              "      border-radius: 50%;\n",
              "      cursor: pointer;\n",
              "      display: none;\n",
              "      fill: #1967D2;\n",
              "      height: 32px;\n",
              "      padding: 0 0 0 0;\n",
              "      width: 32px;\n",
              "    }\n",
              "\n",
              "    .colab-df-convert:hover {\n",
              "      background-color: #E2EBFA;\n",
              "      box-shadow: 0px 1px 2px rgba(60, 64, 67, 0.3), 0px 1px 3px 1px rgba(60, 64, 67, 0.15);\n",
              "      fill: #174EA6;\n",
              "    }\n",
              "\n",
              "    [theme=dark] .colab-df-convert {\n",
              "      background-color: #3B4455;\n",
              "      fill: #D2E3FC;\n",
              "    }\n",
              "\n",
              "    [theme=dark] .colab-df-convert:hover {\n",
              "      background-color: #434B5C;\n",
              "      box-shadow: 0px 1px 3px 1px rgba(0, 0, 0, 0.15);\n",
              "      filter: drop-shadow(0px 1px 2px rgba(0, 0, 0, 0.3));\n",
              "      fill: #FFFFFF;\n",
              "    }\n",
              "  </style>\n",
              "\n",
              "      <script>\n",
              "        const buttonEl =\n",
              "          document.querySelector('#df-22a5563c-b28f-4186-9c5b-db59890224b8 button.colab-df-convert');\n",
              "        buttonEl.style.display =\n",
              "          google.colab.kernel.accessAllowed ? 'block' : 'none';\n",
              "\n",
              "        async function convertToInteractive(key) {\n",
              "          const element = document.querySelector('#df-22a5563c-b28f-4186-9c5b-db59890224b8');\n",
              "          const dataTable =\n",
              "            await google.colab.kernel.invokeFunction('convertToInteractive',\n",
              "                                                     [key], {});\n",
              "          if (!dataTable) return;\n",
              "\n",
              "          const docLinkHtml = 'Like what you see? Visit the ' +\n",
              "            '<a target=\"_blank\" href=https://colab.research.google.com/notebooks/data_table.ipynb>data table notebook</a>'\n",
              "            + ' to learn more about interactive tables.';\n",
              "          element.innerHTML = '';\n",
              "          dataTable['output_type'] = 'display_data';\n",
              "          await google.colab.output.renderOutput(dataTable, element);\n",
              "          const docLink = document.createElement('div');\n",
              "          docLink.innerHTML = docLinkHtml;\n",
              "          element.appendChild(docLink);\n",
              "        }\n",
              "      </script>\n",
              "    </div>\n",
              "  </div>\n",
              "  "
            ]
          },
          "metadata": {},
          "execution_count": 4
        }
      ]
    },
    {
      "cell_type": "markdown",
      "source": [
        "Defining fuzzy attributes \"low\", \"medium\" and \"high\""
      ],
      "metadata": {
        "id": "ZgfXXMwDbXR6"
      }
    },
    {
      "cell_type": "code",
      "source": [
        "# low(x) is the degree of x being \"low\"\n",
        "\n",
        "def low(x):\n",
        "  if x>=0 and x<=(card_tr-1)/2:\n",
        "    temp=(-2*x/(card_tr-1))+1\n",
        "  else:\n",
        "    temp=0\n",
        "  return(temp)\n",
        "\n",
        "# med(x) is the degree of x being \"medium\"\n",
        "\n",
        "def med(x):\n",
        "  if x>=0 and x<=(card_tr-1)/2:\n",
        "    temp=2*x/(card_tr-1)\n",
        "  elif x>=(card_tr-1)/2 and x<=card_tr:\n",
        "    temp=(-2*x/(card_tr-1))+2\n",
        "  else:\n",
        "    temp=0\n",
        "  return(temp)\n",
        "\n",
        "# high(x) is the degree of x being \"high\"\n",
        "\n",
        "def high(x):\n",
        "  if x>=(card_tr-1)/2 and x<=card_tr-1:\n",
        "    temp=(2*x/(card_tr-1))-1\n",
        "  else:\n",
        "    temp=0\n",
        "  return(temp)"
      ],
      "metadata": {
        "id": "LBmtZdUeBfJj"
      },
      "execution_count": null,
      "outputs": []
    },
    {
      "cell_type": "code",
      "source": [
        "import matplotlib.pyplot as plt"
      ],
      "metadata": {
        "id": "oXyZ96muR2zP"
      },
      "execution_count": null,
      "outputs": []
    },
    {
      "cell_type": "code",
      "source": [
        "# Plotting the fuzzy sets associated to \"low\", \"medium\" and \"high\".\n",
        "\n",
        "# T axis values\n",
        "T1 = [0,(card_tr-1)/2]\n",
        "T2 = [0, (card_tr-1)/2, card_tr-1]\n",
        "T3 = [(card_tr-1)/2, card_tr-1]\n",
        "# Corresponding y axis values\n",
        "y1 = [1,0]\n",
        "y2 = [0, 1, 0]\n",
        "y3 = [0, 1]\n",
        " \n",
        "# Plotting the points\n",
        "plt.plot(T1, y1, label = \"low\")\n",
        "plt.plot(T2, y2, label = \"medium\")\n",
        "plt.plot(T3, y3, label = \"high\")\n",
        "# Naming the x axis\n",
        "plt.xlabel('T- axis')\n",
        "# Naming the y axis\n",
        "plt.ylabel('Membership Degree')\n",
        "plt.legend()\n",
        " \n",
        "# Function to show the plot\n",
        "plt.show()"
      ],
      "metadata": {
        "colab": {
          "base_uri": "https://localhost:8080/",
          "height": 279
        },
        "id": "583wcw36R8ly",
        "outputId": "9b916c4d-9db3-46cb-dd50-50a9f3ce4ef2"
      },
      "execution_count": null,
      "outputs": [
        {
          "output_type": "display_data",
          "data": {
            "text/plain": [
              "<Figure size 432x288 with 1 Axes>"
            ],
            "image/png": "[encoded data removed]"
          },
          "metadata": {
            "needs_background": "light"
          }
        }
      ]
    },
    {
      "cell_type": "markdown",
      "source": [
        "Computing Fuzzy Average Treatment Effect (FATE)"
      ],
      "metadata": {
        "id": "4CMaswEXbt-i"
      }
    },
    {
      "cell_type": "code",
      "source": [
        "# A row (pr_pot_outcome) with card_tr enteries such that the jth entery is E(Y(j))=Pr(Y(j)=1).\n",
        "\n",
        "pr_pot_outcome=pop.sum(axis=0)/card_smpl"
      ],
      "metadata": {
        "id": "ZmMRxneAEA4p"
      },
      "execution_count": null,
      "outputs": []
    },
    {
      "cell_type": "code",
      "source": [
        "# Calculating E(Y(low)) (=ex_pot_low).\n",
        "# Here \"T_is_low\" is the sum of low(0)+ ... +low(card_tr-1).\n",
        "# We note that P(T is low)=T_is_low/card_smpl.\n",
        "\n",
        "ex_pot_low=0\n",
        "T_is_low=0\n",
        "\n",
        "for j in range(0,card_tr):\n",
        "  T_is_low+=low(j)\n",
        "  ex_pot_low+=pr_pot_outcome[j]*low(j)\n",
        "\n",
        "ex_pot_low=ex_pot_low/T_is_low\n",
        "\n",
        "# Calculating E(Y(medium)) (=ex_pot_med).\n",
        "# Here \"T_is_med\" is the sum of med(0)+ ... +med(card_tr-1).\n",
        "\n",
        "ex_pot_med=0\n",
        "T_is_med=0\n",
        "\n",
        "for j in range(0,card_tr):\n",
        "  T_is_med+=med(j)\n",
        "  ex_pot_med+=pr_pot_outcome[j]*med(j)\n",
        "\n",
        "ex_pot_med=ex_pot_med/T_is_med\n",
        "\n",
        "# Calculating E(Y(high)) (=ex_pot_high).\n",
        "# Here \"T_is_high\" is the sum of high(0)+ ... +high(card_tr-1).\n",
        "\n",
        "ex_pot_high=0\n",
        "T_is_high=0\n",
        "\n",
        "for j in range(0,card_tr):\n",
        "  T_is_high+=high(j)\n",
        "  ex_pot_high+=pr_pot_outcome[j]*high(j)\n",
        "\n",
        "ex_pot_high=ex_pot_high/T_is_high"
      ],
      "metadata": {
        "id": "dGs7-m9EI3a5"
      },
      "execution_count": null,
      "outputs": []
    },
    {
      "cell_type": "code",
      "source": [
        "# Computing FATE.\n",
        "\n",
        "FATE_lm=ex_pot_med-ex_pot_low\n",
        "FATE_lh=ex_pot_high-ex_pot_low\n",
        "\n",
        "print(\"FATE_l^m=\", FATE_lm)\n",
        "print(\"FATE_l^h=\", FATE_lh)"
      ],
      "metadata": {
        "colab": {
          "base_uri": "https://localhost:8080/"
        },
        "id": "vTwRst_oJBws",
        "outputId": "d8e8091f-fac8-4493-e0fb-f1f56e85b60b"
      },
      "execution_count": null,
      "outputs": [
        {
          "output_type": "stream",
          "name": "stdout",
          "text": [
            "FATE_l^m= 0.22724099999999997\n",
            "FATE_l^h= 0.5987880000000001\n"
          ]
        }
      ]
    },
    {
      "cell_type": "markdown",
      "source": [
        "## Part 2: Computing Fuzzy Treatment Effect Using the Ignorability Condition"
      ],
      "metadata": {
        "id": "sBA6dDR2ch-8"
      }
    },
    {
      "cell_type": "markdown",
      "source": [
        "Computing the Probability Values of Assigning Different Treatments"
      ],
      "metadata": {
        "id": "A1xKHZKrc57s"
      }
    },
    {
      "cell_type": "code",
      "source": [
        "# Comouting Pr(xi_{T,A}=t)/Pr(T is A) for any t, and the attribute A in {\"low\", \"med\", \"high\"}.\n",
        "# A vector with card_tre enteries is computed whose jth entery is Pr(xi_{T,A}=j)/Pr(T is A).\n",
        "\n",
        "pr_low=np.zeros(card_tr)\n",
        "pr_med=np.zeros(card_tr)\n",
        "pr_high=np.zeros(card_tr)\n",
        "for j in range(0,card_tr):\n",
        "  pr_low[j]=low(j)/T_is_low\n",
        "  pr_med[j]=med(j)/T_is_med\n",
        "  pr_high[j]=high(j)/T_is_high\n",
        "\n"
      ],
      "metadata": {
        "id": "sybsmfw1OM3O"
      },
      "execution_count": null,
      "outputs": []
    },
    {
      "cell_type": "markdown",
      "source": [
        "Randomly Assigning the Treatments and Computing Conditioanl Expcted Values of the Observed Outcome Given the \"low\", \"medium\" and \"high\" Treatments"
      ],
      "metadata": {
        "id": "fOXEWPDedPpb"
      }
    },
    {
      "cell_type": "code",
      "source": [
        "# Computing the number of units that would be treated by different treatments.\n",
        "# For any A in {\"low\", \"medium\", \"high\"}, a vector with card_tre entries is computed. \n",
        "# The jth entry of this vector is the number of units receiving T=j as A.  \n",
        "\n",
        "nr_low=divmod(pr_low*T_is_low*card_smpl/card_tr,1)[0]\n",
        "nr_med=divmod(pr_med*T_is_med*card_smpl/card_tr,1)[0]\n",
        "nr_high=divmod(pr_high*T_is_high*card_smpl/card_tr,1)[0]"
      ],
      "metadata": {
        "id": "XWXhvispgJKK"
      },
      "execution_count": null,
      "outputs": []
    },
    {
      "cell_type": "code",
      "source": [
        "import random"
      ],
      "metadata": {
        "id": "Oqtvh988jnFt"
      },
      "execution_count": null,
      "outputs": []
    },
    {
      "cell_type": "code",
      "source": [
        "# Randomly assigning the \"low\" treatments to units. Indeed, the selected units in our sample are aggregated in the list \"select_agg\".\n",
        "\n",
        "random.seed(1)\n",
        "select_low=[]\n",
        "select_agg=[]\n",
        "for j in range(0,card_tr):\n",
        "  temp_l1=[]\n",
        "  while len(temp_l1)<nr_low[j]:\n",
        "        temp_1=random.randint(0,card_smpl-1)\n",
        "        if  temp_1 not in select_agg:\n",
        "               temp_l1.append(temp_1)\n",
        "               select_agg.append(temp_1)\n",
        "  select_low.append(temp_l1)\n"
      ],
      "metadata": {
        "id": "IezxuOrskw7u"
      },
      "execution_count": null,
      "outputs": []
    },
    {
      "cell_type": "code",
      "source": [
        "# Computing E(Y|\\xi_{T,low}!=t_{low}).\n",
        "\n",
        "exp_y_low=0\n",
        "for j in range(0,card_tr):\n",
        "  temp_2=0\n",
        "  for i in select_low[j]:\n",
        "    temp_2+=pop[i,j]\n",
        "  if nr_low[j]>0:\n",
        "     exp_y_low+=((temp_2*low(j))/nr_low[j])\n",
        "exp_y_low=exp_y_low/T_is_low"
      ],
      "metadata": {
        "id": "WfKWDl1AnUuS"
      },
      "execution_count": null,
      "outputs": []
    },
    {
      "cell_type": "code",
      "source": [
        "# Randomly assigning the \"medium\" treatments to units. Indeed, the selected units are added to \"select_agg\".\n",
        "\n",
        "\n",
        "select_med=[]\n",
        "for j in range(0,card_tr):\n",
        "  temp_l2=[]\n",
        "  while len(temp_l2)<nr_med[j]:\n",
        "        temp_3=random.randint(0,card_smpl-1)\n",
        "        if  temp_3 not in select_agg:\n",
        "               temp_l2.append(temp_3)\n",
        "               select_agg.append(temp_3)\n",
        "  select_med.append(temp_l2)\n",
        "\n"
      ],
      "metadata": {
        "id": "PuQixx-9lN3A"
      },
      "execution_count": null,
      "outputs": []
    },
    {
      "cell_type": "code",
      "source": [
        "# Computing E(Y|\\xi_{T,medium}!=t_{medium}).\n",
        "\n",
        "exp_y_med=0\n",
        "for j in range(0,card_tr):\n",
        "  temp_2=0\n",
        "  for i in select_med[j]:\n",
        "    temp_2+=pop[i,j]\n",
        "  if nr_med[j]>0:\n",
        "     exp_y_med+=((temp_2*med(j))/nr_med[j])\n",
        "exp_y_med=exp_y_med/T_is_med"
      ],
      "metadata": {
        "id": "tR4IblYEiYg6"
      },
      "execution_count": null,
      "outputs": []
    },
    {
      "cell_type": "code",
      "source": [
        "# Randomly assigning the \"high\" treatments to units. Indeed, the selected units are added to \"select_agg\".\n",
        "\n",
        "select_high=[]\n",
        "\n",
        "for j in range(0,card_tr):\n",
        "  temp_l1=[]\n",
        "  while len(temp_l1)<nr_high[j]:\n",
        "        temp_1=random.randint(0,card_smpl-1)\n",
        "        if  temp_1 not in select_agg:\n",
        "               temp_l1.append(temp_1)\n",
        "               select_agg.append(temp_1)\n",
        "  select_high.append(temp_l1)"
      ],
      "metadata": {
        "id": "Zx9WMIWwycCM"
      },
      "execution_count": null,
      "outputs": []
    },
    {
      "cell_type": "code",
      "source": [
        "# Computing E(Y|\\xi_{T,high}!=t_{high}).\n",
        "\n",
        "exp_y_high=0\n",
        "for j in range(0,card_tr):\n",
        "  temp_2=0\n",
        "  for i in select_high[j]:\n",
        "    temp_2+=pop[i,j]\n",
        "  if nr_high[j]>0:\n",
        "     exp_y_high+=((temp_2*high(j))/nr_high[j])\n",
        "exp_y_high=exp_y_high/T_is_high"
      ],
      "metadata": {
        "id": "C5vhDMs1ogEc"
      },
      "execution_count": null,
      "outputs": []
    },
    {
      "cell_type": "code",
      "source": [
        "# Computing FATE_l^h.\n",
        "\n",
        "exp_y_high-exp_y_low"
      ],
      "metadata": {
        "id": "dI1lbVwsyvlw",
        "colab": {
          "base_uri": "https://localhost:8080/"
        },
        "outputId": "8768e8db-d7d9-4795-f89f-a8406dfee789"
      },
      "execution_count": null,
      "outputs": [
        {
          "output_type": "execute_result",
          "data": {
            "text/plain": [
              "0.5981981981981981"
            ]
          },
          "metadata": {},
          "execution_count": 20
        }
      ]
    },
    {
      "cell_type": "code",
      "source": [
        "# Computing FATE_m^h.\n",
        "\n",
        "exp_y_med-exp_y_low"
      ],
      "metadata": {
        "id": "hGqKfRRH7P9F",
        "colab": {
          "base_uri": "https://localhost:8080/"
        },
        "outputId": "7bf689b4-3753-441a-e287-75d9f5649b44"
      },
      "execution_count": null,
      "outputs": [
        {
          "output_type": "execute_result",
          "data": {
            "text/plain": [
              "0.22702702702702707"
            ]
          },
          "metadata": {},
          "execution_count": 21
        }
      ]
    }
  ]
}